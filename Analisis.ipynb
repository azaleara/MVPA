{
 "cells": [
  {
   "cell_type": "code",
   "execution_count": 1,
   "metadata": {
    "collapsed": false
   },
   "outputs": [],
   "source": [
    "from mvpa2.suite import *\n",
    "import os.path"
   ]
  },
  {
   "cell_type": "markdown",
   "metadata": {},
   "source": [
    "# Variables iniciales"
   ]
  },
  {
   "cell_type": "code",
   "execution_count": 12,
   "metadata": {
    "collapsed": false
   },
   "outputs": [],
   "source": [
    "datapath = '/media/sf_usr/share/data/objetos/data' #depending on the experiment to be run\n",
    "\n",
    "subj = 1 #participante\n",
    "maskName = 'L_AIPs' #nombre de la mascara a cargar\n",
    "maskFolder = 'orig' #folder del cual se debe obtener la mascara\n",
    "runsToTrain = [1,3,5] #corridas para entrenar\n",
    "runsToTest = [2,4,6] #corridas para probar\n",
    "HemoCor = 6\n",
    "model = 1\n",
    "task = 1\n",
    "dhandle = OpenFMRIDataset(datapath) #crea un handle del sitio donde se encuentran los datos\n",
    "subjString = 'sub' + '%03d' % n #string que denota el participante a cargar\n",
    "\n",
    "\n",
    "\n"
   ]
  },
  {
   "cell_type": "markdown",
   "metadata": {},
   "source": [
    "# Cargar los datos para entrenar al clasificador"
   ]
  },
  {
   "cell_type": "code",
   "execution_count": null,
   "metadata": {
    "collapsed": true
   },
   "outputs": [],
   "source": [
    "run_datasets = [] #array donde se meteran los datos\n",
    "for run_id in runsToTrain: #Se mueve corrida por corrida para cargar cada dato\n",
    "    # genera path de la mascara\n",
    "    mask_fname = os.path.join(datapath, 'sub001', 'masks', 'orig', 'L_AIPs' + '.nii.gz')\n",
    "    # carga los vectores \n",
    "    run_events = dhandle.get_bold_run_model(model, subj, run_id)\n",
    "    # carga la corrida pero solamente el volumen comprendido dentro de la mascara\n",
    "    run_ds = dhandle.get_bold_run_dataset(subj, task, run_id, chunks=run_id -1, mask=mask_fname)\n",
    "    #correccion hemodinamica\n",
    "    if HemoCor != 0:\n",
    "        for i, ar in enumerate(run_events):\n",
    "            run_events[i]['onset'] = run_events[i]['onset'] + HemoCor\n",
    "    # convierte run_events y lo asigna a targets\n",
    "    run_ds.sa['targets'] = events2sample_attr(\n",
    "                run_events, run_ds.sa.time_coords, noinfolabel='rest')\n",
    "    #asigna del dataset al array que contiene todos\n",
    "    run_datasets.append(run_ds)\n",
    "fdsTrain = vstack(run_datasets, a=0)"
   ]
  },
  {
   "cell_type": "markdown",
   "metadata": {},
   "source": [
    "# Cargar los datos para probar al clasificador"
   ]
  },
  {
   "cell_type": "code",
   "execution_count": null,
   "metadata": {
    "collapsed": true
   },
   "outputs": [],
   "source": [
    "run_datasets2 = [] #array donde se meteran los datos\n",
    "for run_id in runsToTest: #Se mueve corrida por corrida para cargar cada dato\n",
    "    # genera path de la mascara\n",
    "    mask_fname = os.path.join(datapath, subjString, 'masks', maskFolder, maskName + '.nii.gz')\n",
    "    # carga los vectores \n",
    "    run_events = dhandle.get_bold_run_model(model, subj, run_id)\n",
    "    # carga la corrida pero solamente el volumen comprendido dentro de la mascara\n",
    "    run_ds = dhandle.get_bold_run_dataset(subj, task, run_id, chunks=run_id -1, mask=mask_fname)\n",
    "    #correccion hemodinamica\n",
    "    if HemoCor != 0:\n",
    "        for i, ar in enumerate(run_events):\n",
    "            run_events[i]['onset'] = run_events[i]['onset'] + HemoCor\n",
    "    # convierte run_events y lo asigna a targets\n",
    "    run_ds.sa['targets'] = events2sample_attr(\n",
    "                run_events, run_ds.sa.time_coords, noinfolabel='rest')\n",
    "    #asigna del dataset al array que contiene todos\n",
    "    run_datasets2.append(run_ds)\n",
    "fdsTest = vstack(run_datasets2, a=0)"
   ]
  },
  {
   "cell_type": "markdown",
   "metadata": {},
   "source": [
    "# Procesado previo a la clasificación"
   ]
  },
  {
   "cell_type": "code",
   "execution_count": null,
   "metadata": {
    "collapsed": true
   },
   "outputs": [],
   "source": [
    "#Correccion\n",
    "detrender = poly_detrend(fdsTrain, polyord=1, chunks_attr='chunks')\n",
    "\n",
    "#conversion a puntaje z\n",
    "zscore(fdsTrain, param_est=('targets', ['rest']))\n",
    "\n",
    "#Remueve los volumenes asociados a la linea base\n",
    "fdsTrain = fdsTrain[fds.sa.targets != 'rest']\n",
    "\n",
    "#promedia los targets en cada chunk\n",
    "run_averager = mean_group_sample(['targets', 'chunks'])\n",
    "fdsTrain = fdsTrain.get_mapped(run_averager)"
   ]
  },
  {
   "cell_type": "code",
   "execution_count": null,
   "metadata": {
    "collapsed": true
   },
   "outputs": [],
   "source": [
    "#Correccion\n",
    "poly_detrend(fdsTest, polyord=1, chunks_attr='chunks')\n",
    "\n",
    "#conversion a puntaje z\n",
    "zscore(fdsTest, param_est=('targets', ['rest']))\n",
    "\n",
    "#Remueve los volumenes asociados a la linea base\n",
    "fdsTest = fdsTest[fdsTest.sa.targets != 'rest']\n",
    "\n",
    "#promedia los targets en cada chunk\n",
    "run_averager = mean_group_sample(['targets', 'chunks'])\n",
    "fdsTest = fdsTest.get_mapped(run_averager)"
   ]
  },
  {
   "cell_type": "markdown",
   "metadata": {},
   "source": [
    "# Clasificación"
   ]
  },
  {
   "cell_type": "code",
   "execution_count": null,
   "metadata": {
    "collapsed": true
   },
   "outputs": [],
   "source": [
    "#Crea un objeto del clasificador\n",
    "clf = LinearCSVMC()\n",
    "clf.train(fdsTrain)\n",
    "err = clf(ds_split1)\n",
    "print np.asscalar(err)\n",
    "\n",
    "\n",
    "\n"
   ]
  }
 ],
 "metadata": {
  "kernelspec": {
   "display_name": "Python 2",
   "language": "python",
   "name": "python2"
  },
  "language_info": {
   "codemirror_mode": {
    "name": "ipython",
    "version": 2
   },
   "file_extension": ".py",
   "mimetype": "text/x-python",
   "name": "python",
   "nbconvert_exporter": "python",
   "pygments_lexer": "ipython2",
   "version": "2.7.10"
  }
 },
 "nbformat": 4,
 "nbformat_minor": 0
}
