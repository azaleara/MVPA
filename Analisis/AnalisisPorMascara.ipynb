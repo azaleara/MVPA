{
 "cells": [
  {
   "cell_type": "markdown",
   "metadata": {},
   "source": [
    "# Análisis por máscara"
   ]
  },
  {
   "cell_type": "code",
   "execution_count": 1,
   "metadata": {
    "collapsed": false
   },
   "outputs": [],
   "source": [
    "from mvpa2.suite import *\n",
    "datapath = '/media/sf_usr/share/data/objetos/data'"
   ]
  },
  {
   "cell_type": "markdown",
   "metadata": {},
   "source": [
    "## Cargando los datos "
   ]
  },
  {
   "cell_type": "code",
   "execution_count": 27,
   "metadata": {
    "collapsed": false
   },
   "outputs": [],
   "source": [
    "dhandle = OpenFMRIDataset(datapath) #creates a handle for the data\n",
    "run_datasets = []\n",
    "for run_id in [1,2,3,4]:\n",
    "    # obtiene el path de la máscara\n",
    "\n",
    "    mask_fname = os.path.join(datapath, 'sub001', 'masks', 'orig', 'L_AIPs.nii.gz')\n",
    "    # Carga el diseño\n",
    "    run_events = dhandle.get_bold_run_model(1, '001', run_id)\n",
    "    # Carga la imagen funcional\n",
    "    run_ds = dhandle.get_bold_run_dataset('001', 1, run_id, chunks=run_id -1, mask=mask_fname)\n",
    "    # Carga los vectores\n",
    "    run_ds.sa['targets'] = events2sample_attr(run_events, run_ds.sa.time_coords, noinfolabel='rest')\n",
    "    # une los datos cargados en un solo array\n",
    "    run_datasets.append(run_ds)\n",
    "fds = vstack(run_datasets, a=0)"
   ]
  },
  {
   "cell_type": "markdown",
   "metadata": {},
   "source": [
    "### Muestra lo que contienen los datos cargados"
   ]
  },
  {
   "cell_type": "code",
   "execution_count": 16,
   "metadata": {
    "collapsed": true
   },
   "outputs": [
    {
     "name": "stdout",
     "output_type": "stream",
     "text": [
      "Dataset: 1000x1918@float32, <sa: chunks,run,subj,targets,task,time_coords,time_indices>, <fa: voxel_indices>, <a: imgaffine,imghdr,imgtype,mapper,voxel_dim,voxel_eldim>\n",
      "stats: mean=10793 std=1504.07 var=2.26221e+06 min=389.71 max=17539.3\n",
      "\n",
      "Counts of targets in each chunk:\n",
      "  chunks\\targets harsh lines rest soft\n",
      "                  ---   ---   ---  ---\n",
      "        0          27    27   169  27\n",
      "        1          27    27   169  27\n",
      "        2          27    27   169  27\n",
      "        3          27    27   169  27\n",
      "\n",
      "Summary for targets across chunks\n",
      "  targets mean std min max #chunks\n",
      "  harsh    27   0   27  27    4\n",
      "  lines    27   0   27  27    4\n",
      "   rest    169  0  169 169    4\n",
      "   soft    27   0   27  27    4\n",
      "\n",
      "Summary for chunks across targets\n",
      "  chunks mean  std min max #targets\n",
      "    0    62.5 61.5  27 169     4\n",
      "    1    62.5 61.5  27 169     4\n",
      "    2    62.5 61.5  27 169     4\n",
      "    3    62.5 61.5  27 169     4\n",
      "Sequence statistics for 1000 entries from set ['harsh', 'lines', 'rest', 'soft']\n",
      "Counter-balance table for orders up to 2:\n",
      "Targets/Order O1            |  O2            |\n",
      "    harsh:    72  0  36  0  |  36  0  72  0  |\n",
      "    lines:     0 72  36  0  |   0 36  72  0  |\n",
      "    rest:     36 36 567 36  |  72 72 458 72  |\n",
      "    soft:      0  0  36 72  |   0  0  72 36  |\n",
      "Correlations: min=-0.1 max=0.64 mean=-0.001 sum(abs)=69\n"
     ]
    }
   ],
   "source": [
    "print fds.summary()"
   ]
  },
  {
   "cell_type": "markdown",
   "metadata": {},
   "source": [
    "## Preprocesado"
   ]
  },
  {
   "cell_type": "markdown",
   "metadata": {},
   "source": [
    "### Linear detrending"
   ]
  },
  {
   "cell_type": "code",
   "execution_count": 28,
   "metadata": {
    "collapsed": true
   },
   "outputs": [],
   "source": [
    "detrender = poly_detrend(fds, polyord=1, chunks_attr='chunks')"
   ]
  },
  {
   "cell_type": "markdown",
   "metadata": {},
   "source": [
    "### Conversión a puntaje Z"
   ]
  },
  {
   "cell_type": "code",
   "execution_count": 29,
   "metadata": {
    "collapsed": true
   },
   "outputs": [],
   "source": [
    "zscore(fds, param_est=('targets', ['rest']))"
   ]
  },
  {
   "cell_type": "markdown",
   "metadata": {},
   "source": [
    "### Remueve los volúmenes asignados a línea base"
   ]
  },
  {
   "cell_type": "code",
   "execution_count": 30,
   "metadata": {
    "collapsed": true
   },
   "outputs": [],
   "source": [
    "fds = fds[fds.sa.targets != 'rest']"
   ]
  },
  {
   "cell_type": "markdown",
   "metadata": {},
   "source": [
    "### Promedia los volúmenes por cada corrida"
   ]
  },
  {
   "cell_type": "code",
   "execution_count": 31,
   "metadata": {
    "collapsed": true
   },
   "outputs": [],
   "source": [
    "run_averager = mean_group_sample(['targets', 'chunks'])\n",
    "fds = fds.get_mapped(run_averager)\n",
    "fds.sa.runtype = ['odd','even','odd','even','odd','even','odd','even','odd','even','odd','even']"
   ]
  },
  {
   "cell_type": "code",
   "execution_count": 39,
   "metadata": {
    "collapsed": false
   },
   "outputs": [
    {
     "data": {
      "text/plain": [
       "numpy.ndarray"
      ]
     },
     "execution_count": 39,
     "metadata": {},
     "output_type": "execute_result"
    }
   ],
   "source": [
    "type(fds.sa.chunks)"
   ]
  },
  {
   "cell_type": "markdown",
   "metadata": {},
   "source": [
    "## Clasificación"
   ]
  },
  {
   "cell_type": "markdown",
   "metadata": {},
   "source": [
    "### Crea una instancia del clasificador"
   ]
  },
  {
   "cell_type": "code",
   "execution_count": 32,
   "metadata": {
    "collapsed": true
   },
   "outputs": [],
   "source": [
    "clf = LinearCSVMC()"
   ]
  },
  {
   "cell_type": "markdown",
   "metadata": {},
   "source": [
    "### Hace una selección de los mejores vóxeles de acuerdo a un ANOVA\n",
    "\n"
   ]
  },
  {
   "cell_type": "code",
   "execution_count": 33,
   "metadata": {
    "collapsed": true
   },
   "outputs": [],
   "source": [
    "fsel = SensitivityBasedFeatureSelection(OneWayAnova(), FractionTailSelector(0.05, mode='select', tail='upper'))\n",
    "fclf = FeatureSelectionClassifier(clf, fsel)"
   ]
  },
  {
   "cell_type": "markdown",
   "metadata": {},
   "source": [
    "### Validación cruzada"
   ]
  },
  {
   "cell_type": "code",
   "execution_count": 40,
   "metadata": {
    "collapsed": true
   },
   "outputs": [],
   "source": [
    "cvte = CrossValidation(fclf, NFoldPartitioner(), errorfx=lambda p, t: np.mean(p == t), enable_ca=['stats'])"
   ]
  },
  {
   "cell_type": "markdown",
   "metadata": {},
   "source": [
    "### Ejecución del análisis"
   ]
  },
  {
   "cell_type": "code",
   "execution_count": 41,
   "metadata": {
    "collapsed": false
   },
   "outputs": [],
   "source": [
    "cv_results = cvte(fds)"
   ]
  },
  {
   "cell_type": "markdown",
   "metadata": {},
   "source": [
    "## Resultados"
   ]
  },
  {
   "cell_type": "code",
   "execution_count": 42,
   "metadata": {
    "collapsed": true
   },
   "outputs": [
    {
     "name": "stdout",
     "output_type": "stream",
     "text": [
      "----------.\n",
      "predictions\\targets  harsh  lines  soft\n",
      "            `------  -----  -----  ----- P' N' FP FN  PPV  NPV  TPR  SPC  FDR  MCC   F1\n",
      "       harsh           1      2      0    3  8  2  3 0.33 0.62 0.25 0.71 0.67 -0.04 0.29\n",
      "       lines           2      2      1    5  6  3  2  0.4 0.67  0.5 0.57  0.6  0.06 0.44\n",
      "        soft           1      0      3    4  4  1  1 0.75 0.75 0.75 0.75 0.25  0.35 0.75\n",
      "Per target:          -----  -----  -----\n",
      "         P             4      4      4\n",
      "         N             8      8      8\n",
      "         TP            1      2      3\n",
      "         TN            5      4      3\n",
      "Summary \\ Means:     -----  -----  -----  4  6  2  2 0.49 0.68  0.5 0.68 0.51  0.13 0.49\n",
      "       CHI^2           6   p=0.65\n",
      "        ACC           0.5\n",
      "        ACC%          50\n",
      "     # of sets         4    ACC(i) = 0.8-0.2*i p=0.23 r=-0.77 r^2=0.6\n",
      "\n",
      "Statistics computed in 1-vs-rest fashion per each target.\n",
      "Abbreviations (for details see http://en.wikipedia.org/wiki/ROC_curve):\n",
      " TP : true positive (AKA hit)\n",
      " TN : true negative (AKA correct rejection)\n",
      " FP : false positive (AKA false alarm, Type I error)\n",
      " FN : false negative (AKA miss, Type II error)\n",
      " TPR: true positive rate (AKA hit rate, recall, sensitivity)\n",
      "      TPR = TP / P = TP / (TP + FN)\n",
      " FPR: false positive rate (AKA false alarm rate, fall-out)\n",
      "      FPR = FP / N = FP / (FP + TN)\n",
      " ACC: accuracy\n",
      "      ACC = (TP + TN) / (P + N)\n",
      " SPC: specificity\n",
      "      SPC = TN / (FP + TN) = 1 - FPR\n",
      " PPV: positive predictive value (AKA precision)\n",
      "      PPV = TP / (TP + FP)\n",
      " NPV: negative predictive value\n",
      "      NPV = TN / (TN + FN)\n",
      " FDR: false discovery rate\n",
      "      FDR = FP / (FP + TP)\n",
      " MCC: Matthews Correlation Coefficient\n",
      "      MCC = (TP*TN - FP*FN)/sqrt(P N P' N')\n",
      " F1 : F1 score\n",
      "      F1 = 2TP / (P + P') = 2TP / (2TP + FP + FN)\n",
      " AUC: Area under (AUC) curve\n",
      " CHI^2: Chi-square of confusion matrix\n",
      " LOE(ACC): Linear Order Effect in ACC across sets\n",
      " # of sets: number of target/prediction sets which were provided\n",
      "\n"
     ]
    }
   ],
   "source": [
    "print cvte.ca.stats.as_string(description=True)"
   ]
  },
  {
   "cell_type": "code",
   "execution_count": 47,
   "metadata": {
    "collapsed": false
   },
   "outputs": [
    {
     "name": "stdout",
     "output_type": "stream",
     "text": [
      "0.5\n"
     ]
    }
   ],
   "source": [
    "cv_results.samples"
   ]
  }
 ],
 "metadata": {
  "kernelspec": {
   "display_name": "Python 2",
   "language": "python",
   "name": "python2"
  },
  "language_info": {
   "codemirror_mode": {
    "name": "ipython",
    "version": 2
   },
   "file_extension": ".py",
   "mimetype": "text/x-python",
   "name": "python",
   "nbconvert_exporter": "python",
   "pygments_lexer": "ipython2",
   "version": "2.7.9"
  }
 },
 "nbformat": 4,
 "nbformat_minor": 0
}
